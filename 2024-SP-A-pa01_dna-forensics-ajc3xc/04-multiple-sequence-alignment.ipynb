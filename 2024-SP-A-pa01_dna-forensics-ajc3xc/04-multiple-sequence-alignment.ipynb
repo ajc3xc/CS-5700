{
 "cells": [
  {
   "cell_type": "markdown",
   "id": "b6ff629c",
   "metadata": {},
   "source": [
    "# Generalized dynamic programming for multiple sequence alignment (MSA)"
   ]
  },
  {
   "cell_type": "markdown",
   "id": "37755301",
   "metadata": {},
   "source": [
    "Do we want to use global or local methods for MSA?\n",
    "==================================================\n",
    "\n",
    "![image0.png](./images/image0.png)"
   ]
  },
  {
   "cell_type": "markdown",
   "id": "1783683b",
   "metadata": {},
   "source": [
    "Which types of genes will diverge less over evolutionary time?\n",
    "==============================================================\n",
    "\n",
    "![image1.png](./images/image1.png)"
   ]
  },
  {
   "cell_type": "markdown",
   "id": "4edffcb7",
   "metadata": {},
   "source": [
    "A gene family is a set of several similar genes, formed by duplication\n",
    "of a single original gene, and generally with similar biochemical\n",
    "functions.\n",
    "\n",
    "![image2.png](./images/image2.png)\n",
    "\n",
    "Where does our 16s ribosome fit into this spectrum of likely-to-mutate or be conserved over evolutionary time?\n",
    "==============================================================================================================\n",
    "\n",
    "Until now we worked with alignments between two sequences, but it is likely that you will want to align many sequences at the same time. For example, if you are trying to gain insight on the evolutionary relationships between all of the 16S bacterial genes in a given sample, it would be time consuming and very inefficient to compare them two at a time. It would be more efficient and useful to compare all of the 16S sequences from the bacteria in the same alignment.\n",
    "\n",
    "In the pairwise sequence alignment chapter, we went over dynamic programming algorithms. It's possible to generalize Smith-Waterman and Needleman-Wunsch, the dynamic programming algorithms that we explored for pairwise sequence alignment, to identify the optimal alignment of more than two sequences. Remember that our scoring scheme for pairwise alignment looked like the following:"
   ]
  },
  {
   "cell_type": "markdown",
   "id": "ba2237fb",
   "metadata": {},
   "source": [
    "$$\n",
    "\\begin{align}\n",
    "& F(0, 0) = 0\\\\\n",
    "& F(i, 0) = F(i-1, 0) - d\\\\\n",
    "& F(0, j) = F(0, j-1) - d\\\\\n",
    "\\\\\n",
    "& F(i, j) = max \\begin{pmatrix}\n",
    "& F(i-1, j-1) + s(c_i, c_j)\\\\\n",
    "& F(i-1, j) - d\\\\\n",
    "& F(i, j-1) - d)\\\\\n",
    "\\end{pmatrix}\n",
    "\\end{align}\n",
    "$$"
   ]
  },
  {
   "cell_type": "markdown",
   "id": "ebb4d965",
   "metadata": {},
   "source": [
    "To generalize this to three sequences, we could create $3 \\times 3$ scoring, dynamic programming, and traceback matrices. Our scoring scheme would then look like the following:"
   ]
  },
  {
   "cell_type": "markdown",
   "id": "8673415a",
   "metadata": {},
   "source": [
    "$$\n",
    "\\begin{align}\n",
    "& F(0, 0, 0) = 0\\\\\n",
    "& F(i, 0, 0) = F(i-1, 0, 0) - d\\\\\n",
    "& F(0, j, 0) = F(0, j-1, 0) - d\\\\\n",
    "& F(0, 0, k) = F(0, 0, k-1) - d\\\\\n",
    "\\\\\n",
    "& F(i, j, k) = max \\begin{pmatrix}\n",
    "F(i-1, j-1, k-1) + s(c_i, c_j) + s(c_i, c_k) + s(c_j, c_k)\\\\\n",
    "F(i, j-1, k-1) + s(c_j, c_k) - d\\\\\n",
    "F(i-1, j, k-1) + s(c_i, c_k) - d\\\\\n",
    "F(i-1, j-1, k) + s(c_i, c_j) - d\\\\\n",
    "F(i, j, k-1) - 2d\\\\\n",
    "F(i, j-1, k) - 2d\\\\\n",
    "F(i-1, j, k) - 2d\\\\\n",
    "\\end{pmatrix}\n",
    "\\end{align}\n",
    "$$"
   ]
  },
  {
   "cell_type": "markdown",
   "id": "ef769928",
   "metadata": {},
   "source": [
    "However the complexity of this algorithm is much worse than for pairwise alignment. For pairwise alignment, remember that if aligning two sequences of lengths $m$ and $n$, the runtime of the algorithm will be proportional to $m \\times n$. If $n$ is longer than or as long as $m$, we simplify the statement to say that the runtime of the algorithm will be be proportional to $n^2$. This curve has a pretty scary trajectory: runtime for pairwise alignment with dynamic programming is said to scale quadratically."
   ]
  },
  {
   "cell_type": "code",
   "execution_count": null,
   "id": "9f86df32",
   "metadata": {},
   "outputs": [],
   "source": [
    "import matplotlib.pyplot as plt\n",
    "import functools\n",
    "import skbio\n",
    "import scipy as sp\n",
    "from scipy import cluster\n",
    "from typing import Callable\n",
    "\n",
    "# from IPython.core import page\n",
    "\n",
    "# page.page = print"
   ]
  },
  {
   "cell_type": "code",
   "execution_count": null,
   "id": "185caf25",
   "metadata": {},
   "outputs": [],
   "source": [
    "seq_lengths = range(25)\n",
    "s2_times = [t**2 for t in range(25)]\n",
    "print(s2_times)\n",
    "plt.plot(range(25), s2_times)\n",
    "plt.xlabel(\"Sequence Length\")\n",
    "plt.ylabel(\"Runtime (s)\")"
   ]
  },
  {
   "cell_type": "markdown",
   "id": "63adb82d",
   "metadata": {},
   "source": [
    "The exponent in the $n^2$ term comes from the fact that, in pairwise alignment, if we assume our sequences are both of length $n$, there are $n \\times n$ cells to fill in in the dynamic programming matrix. If we were to generalize either Smith-Waterman or Needleman-Wunsch to three sequences, we would need to create a 3 dimensional array to score and trace back the alignment. For sequences of length $n$, we would therefore have $n \\times n \\times n$ cells to fill in, and our runtime versus sequence length curve would look like the following."
   ]
  },
  {
   "cell_type": "code",
   "execution_count": null,
   "id": "b7c7a46f",
   "metadata": {},
   "outputs": [],
   "source": [
    "s3_times = [t**3 for t in range(25)]\n",
    "\n",
    "plt.plot(range(25), s3_times)\n",
    "plt.xlabel(\"Sequence Length\")\n",
    "plt.ylabel(\"Runtime (s)\")"
   ]
  },
  {
   "cell_type": "markdown",
   "id": "9a6960f3",
   "metadata": {},
   "source": [
    "That curve looks steeper than the curve for pairwise alignment, and the values on the y-axis are bigger, but it's not really clear how much of a problem this is until we plot runtime for three sequences in the context of the run times for pairwise alignment."
   ]
  },
  {
   "cell_type": "code",
   "execution_count": null,
   "id": "4fb7cf3e",
   "metadata": {},
   "outputs": [],
   "source": [
    "plt.plot(range(25), s2_times)\n",
    "plt.plot(range(25), s3_times)\n",
    "plt.xlabel(\"Sequence Length\")\n",
    "plt.ylabel(\"Runtime (s)\")"
   ]
  },
  {
   "cell_type": "markdown",
   "id": "a20fb139",
   "metadata": {},
   "source": [
    "And for four sequences:"
   ]
  },
  {
   "cell_type": "code",
   "execution_count": null,
   "id": "2fb96902",
   "metadata": {},
   "outputs": [],
   "source": [
    "s4_times = [t**4 for t in range(25)]\n",
    "\n",
    "plt.plot(range(25), s2_times)\n",
    "plt.plot(range(25), s3_times)\n",
    "plt.plot(range(25), s4_times)\n",
    "plt.xlabel(\"Sequence Length\")\n",
    "plt.ylabel(\"Runtime (s)\")"
   ]
  },
  {
   "cell_type": "markdown",
   "id": "670cbb35",
   "metadata": {},
   "source": [
    "We clearly have a problem here, and that is that the runtime for multiple sequence alignment using full dynamic programming algorithms grows exponentially with the number of sequences to be aligned. If $n$ is our sequence length, and $s$ is the number of sequences, that means that runtime is proportional to $n^s$. In pairwise alignment, $s$ is always equal to 2, so the problem is more manageable. However, for the general case of $s$ sequences, we really can't even consider Smith-Waterman or Needleman-Wunsch for more than just a few sequences. The pattern in the plots above should illustrate why.\n",
    "\n",
    "![image3.png](./images/image3.png)\n",
    "\n",
    "As we explored with database searching, we need to figure out how to align fewer sequences. This is where *progressive alignment* comes in."
   ]
  },
  {
   "cell_type": "markdown",
   "id": "2dba1a33",
   "metadata": {},
   "source": [
    "#### ======== Cahoot-09-1"
   ]
  },
  {
   "cell_type": "markdown",
   "id": "21ddab2a",
   "metadata": {},
   "source": [
    "## Progressive alignment\n",
    "\n",
    "In progressive alignment, the problem of exponential growth of runtime and space is managed by selectively aligning pairs of sequences, and aligning alignments of sequences.\n",
    "\n",
    "* What we typically do is identify a pair of closely related sequences, and align those.\n",
    "* Then, we identify the next most closely related sequence to that initial pair, and align that sequence to the alignment.\n",
    "* This concept of aligning a sequence to an alignment is new, and we'll come back to it in just a few minutes.\n",
    "* The other concept of identifying the most closely related sequences, and then the next most closely related sequence, and so on should sound familiar.\n",
    "* It effectively means that we're traversing a tree.\n",
    "* And herein lies our problem: we need a tree to efficiently align multiple sequences, but we need an alignment to build a good tree.\n",
    "\n",
    "As a quick review of tree terminology:\n",
    "![image4.png](./images/image4.png)\n",
    "\n",
    "![image5.png](./images/image5.png)\n",
    "\n",
    "You probably have two burning questions in your mind right now:"
   ]
  },
  {
   "cell_type": "markdown",
   "id": "60c71bab",
   "metadata": {},
   "source": [
    "1. How do we build a tree to guide the alignment process, if we need an alignment to build a good tree?\n",
    "2. How do we align a sequence to an alignment, or an alignment to an alignment?"
   ]
  },
  {
   "cell_type": "markdown",
   "id": "47b0bc67",
   "metadata": {},
   "source": [
    "We'll explore both of those through-out the rest of this notebook.\n",
    "\n",
    "First, let's cover the process of progressive multiple sequence alignment, just assuming for a moment that we know how to do both of those things."
   ]
  },
  {
   "cell_type": "markdown",
   "id": "4c44903f",
   "metadata": {},
   "source": [
    "The process of progressive multiple sequence alignment could look like the following.\n",
    "* First, we start with some sequences and a tree representing the relationship between those sequences.\n",
    "    * We'll call this our guide tree, because it's going to guide us through the process of multiple sequence alignment.\n",
    "* In progressive multiple sequence alignment, we build a multiple sequence alignment for each internal node of the tree, where the alignment at a given internal node contains all of the sequences in the clade defined by that node."
   ]
  },
  {
   "cell_type": "markdown",
   "id": "e8ff68b5",
   "metadata": {},
   "source": [
    "![](./images/msa-tree-input.png)"
   ]
  },
  {
   "cell_type": "markdown",
   "id": "db1f8bea",
   "metadata": {},
   "source": [
    "* Starting from the root node, descend the bottom branch of the tree until you get to the an internal node.\n",
    "* If an alignment hasn't been constructed for that node yet, continue descending the tree until getting to a pair of nodes.\n",
    "* In this case, we follow the two branches to the tips.\n",
    "* We then align the sequences at that pair of tips (usually with Needleman-Wunsch, for multiple sequence alignment), and assign that alignment to the node connecting those tips (`s4` and `s5` below)."
   ]
  },
  {
   "cell_type": "markdown",
   "id": "0746102c",
   "metadata": {},
   "source": [
    "![](./images/msa-tree-a1.png)"
   ]
  },
  {
   "cell_type": "markdown",
   "id": "e05a6599",
   "metadata": {},
   "source": [
    "* Next, we want to find what to align the resulting alignment to, so start from the root node and descend the top branch of the tree.\n",
    "* When you get to the next node, determine if an alignment has already been created for that node.\n",
    "* If not, our job is to build that alignment so we have something to align against.\n",
    "* In this case, that means that we need to align `s1`, `s2`, and `s3`.\n",
    "* We can achieve this by aligning `s1` and `s3` first, to get the alignment at the internal node connecting them."
   ]
  },
  {
   "cell_type": "markdown",
   "id": "926d204f",
   "metadata": {},
   "source": [
    "![](./images/msa-tree-a2.png)"
   ]
  },
  {
   "cell_type": "markdown",
   "id": "b5ffc474",
   "metadata": {},
   "source": [
    "We can next align the alignment of `s1` and `s3` with `s2`, to get the alignment at the internal node connecting those clades."
   ]
  },
  {
   "cell_type": "markdown",
   "id": "09e48598",
   "metadata": {},
   "source": [
    "![](./images/msa-tree-a3.png)"
   ]
  },
  {
   "cell_type": "markdown",
   "id": "41421e2c",
   "metadata": {},
   "source": [
    "And finally, we can compute the alignment at the root node of the tree, by aligning the alignment of `s1`, `s2`, and `s3` with the alignment of `s4` and `s5`."
   ]
  },
  {
   "cell_type": "markdown",
   "id": "6a0d64e6",
   "metadata": {},
   "source": [
    "![](./images/msa-tree-final.png)"
   ]
  },
  {
   "cell_type": "markdown",
   "id": "ea0c7c63",
   "metadata": {},
   "source": [
    "## Recall data structures: What kind of tree traversal produces such a pattern of emumeration?"
   ]
  },
  {
   "cell_type": "markdown",
   "id": "16db69a3",
   "metadata": {},
   "source": [
    "The alignment at the root node is our multiple sequence alignment.\n",
    "\n",
    "### Building the guide tree\n",
    "\n",
    "#### Side-note: The Iris flower data set or Fisher's Iris data set\n",
    "\n",
    "-   a multivariate data set introduced by the British statistician and\n",
    "    biologist Ronald Fisher in his 1936 paper, The use of multiple\n",
    "    measurements in taxonomic problems as an example of linear\n",
    "    discriminant analysis.\n",
    "-   It is sometimes called Anderson's Iris data set because Edgar\n",
    "    Anderson collected the data to quantify the morphologic variation of\n",
    "    Iris flowers of three related species.\n",
    "-   Two of the three species were collected in the Gaspé Peninsula \"all\n",
    "    from the same pasture, and picked on the same day and measured at\n",
    "    the same time by the same person with the same apparatus\".\n",
    "\n",
    "The data set consists of 50 samples from each of three species of Iris\n",
    "(Iris setosa, Iris virginica and Iris versicolor).\n",
    "\n",
    "-   Four features were measured from each sample: the **length** and the\n",
    "    **width** of the **sepals** and **petals**, in centimetres.\n",
    "-   Based on the combination of these four features, Fisher developed a\n",
    "    linear discriminant model to distinguish the species from each\n",
    "    other.\n",
    "\n",
    "![image6.png](./images/image6.png)"
   ]
  },
  {
   "cell_type": "markdown",
   "id": "8d57ecd0",
   "metadata": {},
   "source": [
    "Hierarchical clustering:\n",
    "<a href=\"http://scikit-learn.org/stable/modules/clustering.html#hierarchical-clustering\" class=\"uri\">http://scikit-learn.org/stable/modules/clustering.html#hierarchical-clustering</a>\n",
    "![image7.png](./images/image7.png)\n",
    "\n",
    "Let's address the first of our outstanding questions. I mentioned above that *we need an alignment to build a good tree*. The key word here is *good*. We can build a very rough tree - one that we would never want to present as representing the actual relationships between the sequences in question - without first aligning the sequences. Building a UPGMA tree requires only a distance matrix, so if we can find a non-alignment-dependent way to compute distances between the sequences, we can build a rough UPGMA tree from them.\n",
    "\n",
    "<a href=\"https://en.wikipedia.org/wiki/UPGMA\" class=\"uri\">https://en.wikipedia.org/wiki/UPGMA</a>\n",
    "\n",
    "<a href=\"https://en.wikipedia.org/wiki/Hierarchical_clustering\" class=\"uri\">https://en.wikipedia.org/wiki/Hierarchical_clustering</a>\n",
    "\n",
    "Assuming points plotted on x, y axes, here are some 2D raw data (Differing in x y space):\n",
    "\n",
    "![image8.png](./images/image8.png)"
   ]
  },
  {
   "cell_type": "markdown",
   "id": "8715b016",
   "metadata": {},
   "source": [
    "Based on distance (of a kind) in the above space, make a top-down (bottom up) cluster of the raw data:\n",
    "\n",
    "![image9.png](./images/image9.png)\n",
    "\n",
    "* Let's compute distances between the sequences based on their *word* composition (recall: k-tuple / k-word / k-mer).\n",
    "* We'll define a *word* here as `k` adjacent characters in the sequence.\n",
    "* We can then define a function that will return all of the words in a sequence as follows.\n",
    "    * These words can be defined as being overlapping, or non-overlapping.\n",
    "    * We'll go with overlapping for this example, as the more words we have, the better our guide tree should be."
   ]
  },
  {
   "cell_type": "markdown",
   "id": "ee1f63e0",
   "metadata": {},
   "source": [
    "#### ======== Cahoot-09-2"
   ]
  },
  {
   "cell_type": "code",
   "execution_count": null,
   "id": "1d9fa949",
   "metadata": {},
   "outputs": [],
   "source": [
    "%psource skbio.DNA.iter_kmers"
   ]
  },
  {
   "cell_type": "markdown",
   "id": "4930c1b4",
   "metadata": {},
   "source": [
    "What is the cost of too-short k-mers?\n",
    "====================================="
   ]
  },
  {
   "cell_type": "code",
   "execution_count": null,
   "id": "9424f2f4",
   "metadata": {},
   "outputs": [],
   "source": [
    "for e in skbio.DNA(sequence=\"ACCGGTGACCAGTTGACCAGTA\").iter_kmers(k=3):\n",
    "    print(e)"
   ]
  },
  {
   "cell_type": "code",
   "execution_count": null,
   "id": "653c6569",
   "metadata": {},
   "outputs": [],
   "source": [
    "# Fewer without overlaps\n",
    "for e in skbio.DNA(sequence=\"ACCGGTGACCAGTTGACCAGTA\").iter_kmers(k=3, overlap=False):\n",
    "    print(e)"
   ]
  },
  {
   "cell_type": "markdown",
   "id": "1d6cc29c",
   "metadata": {},
   "source": [
    "What is the cost of too long k-mers?\n",
    "===================================="
   ]
  },
  {
   "cell_type": "code",
   "execution_count": null,
   "id": "0a9455ab",
   "metadata": {},
   "outputs": [],
   "source": [
    "for e in skbio.DNA(sequence=\"ACCGGTGACCAGTTGACCAGTA\").iter_kmers(k=7):\n",
    "    print(e)"
   ]
  },
  {
   "cell_type": "markdown",
   "id": "3fdc5628",
   "metadata": {},
   "source": [
    "If we then have two sequences, we can compute the word counts for each\n",
    "and define a distance between the sequences as:\n",
    "\n",
    "* **the fraction of words that are unique to either sequence.**\n",
    "With a function defined below.\n",
    "\n",
    "\n",
    "What other definitions could we have?\n",
    "=====================================\n",
    "\n",
    "Can we incorporate count too?\n",
    "============================="
   ]
  },
  {
   "cell_type": "code",
   "execution_count": null,
   "id": "744697d9",
   "metadata": {},
   "outputs": [],
   "source": [
    "# For a review of apply: help(map)\n",
    "print(type(skbio.DNA(sequence=\"ACCGGTGACCAGTTGACCAGTA\").iter_kmers(k=5, overlap=True)))\n",
    "\n",
    "set1 = set(\n",
    "    map(str, skbio.DNA(sequence=\"ACCGGTGACCAGTTGACCAGTA\").iter_kmers(k=5, overlap=True))\n",
    ")\n",
    "set2 = set(\n",
    "    map(str, skbio.DNA(sequence=\"AACGTGACCAGTTCGACCATTA\").iter_kmers(k=5, overlap=True))\n",
    ")\n",
    "\n",
    "print(\"\\nAll: \\n\", set1 | set2, \"\\n\")\n",
    "print(\"Shared: \\n\", set1 & set2)"
   ]
  },
  {
   "cell_type": "code",
   "execution_count": null,
   "id": "1fde1d9d",
   "metadata": {},
   "outputs": [],
   "source": [
    "def kmer_distance(sequence1, sequence2, k=3, overlap=True):\n",
    "    \"\"\"Compute the kmer distance between a pair of sequences\n",
    "\n",
    "    Parameters\n",
    "    ----------\n",
    "    sequence1 : skbio.Sequence\n",
    "    sequence2 : skbio.Sequence\n",
    "    k : int, optional\n",
    "        The word length.\n",
    "    overlapping : bool, optional\n",
    "        Defines whether the k-words should be overlapping or not\n",
    "        overlapping.\n",
    "\n",
    "    Returns\n",
    "    -------\n",
    "    float\n",
    "        Fraction of the set of k-mers from both sequence1 and\n",
    "        sequence2 that are unique to either sequence1 or\n",
    "        sequence2.\n",
    "\n",
    "    Raises\n",
    "    ------\n",
    "    ValueError\n",
    "        If k < 1.\n",
    "\n",
    "    Notes\n",
    "    -----\n",
    "    k-mer counts are not incorporated in this distance metric.\n",
    "\n",
    "    \"\"\"\n",
    "    sequence1_kmers = set(map(str, sequence1.iter_kmers(k=k, overlap=overlap)))\n",
    "    sequence2_kmers = set(map(str, sequence2.iter_kmers(k=k, overlap=overlap)))\n",
    "    all_kmers = sequence1_kmers | sequence2_kmers\n",
    "    shared_kmers = sequence1_kmers & sequence2_kmers\n",
    "    number_unique = len(all_kmers) - len(shared_kmers)\n",
    "    fraction_unique = number_unique / len(all_kmers)\n",
    "    return fraction_unique"
   ]
  },
  {
   "cell_type": "markdown",
   "id": "f3eeab5f",
   "metadata": {},
   "source": [
    "### We can then use this k-mer metric as an abstract distance function.\n",
    "\n",
    "### In clustering, distance can be in an abstract space, or n-dimensional:\n",
    "\n",
    "-   <a href=\"https://en.wikipedia.org/wiki/Metric_(mathematics)\" class=\"uri\">https://en.wikipedia.org/wiki/Metric_(mathematics)</a>\n",
    "-   <a href=\"https://en.wikipedia.org/wiki/Distance\" class=\"uri\">https://en.wikipedia.org/wiki/Distance</a>\n",
    "\n",
    "![image10.png](./images/image10.png)\n",
    "\n",
    "What would happen if we included the 4th, Sepal Width?\n",
    "======================================================\n",
    "\n",
    "To see how to implement bottom up agglomerative hierarchical clustering,\n",
    "check out this small-medium implementation in Python:\n",
    "\n",
    "<a href=\"https://github.com/ZwEin27/Hierarchical-Clustering\" class=\"uri\">https://github.com/ZwEin27/Hierarchical-Clustering</a>"
   ]
  },
  {
   "cell_type": "code",
   "execution_count": null,
   "id": "23d12821",
   "metadata": {},
   "outputs": [],
   "source": [
    "# help(skbio.DNA.distance)"
   ]
  },
  {
   "cell_type": "code",
   "execution_count": null,
   "id": "a0a4624d",
   "metadata": {},
   "outputs": [],
   "source": [
    "%psource skbio.DNA.distance"
   ]
  },
  {
   "cell_type": "code",
   "execution_count": null,
   "id": "0085c523",
   "metadata": {},
   "outputs": [],
   "source": [
    "seq_1 = skbio.DNA(sequence=\"ACCGGTGACCAGTTGACCAGT\")\n",
    "seq_2 = skbio.DNA(sequence=\"ATCGGTACCGGTAGAAGTCCT\")\n",
    "seq_1.distance(seq_2)\n",
    "# The default is hamming distance,\n",
    "# which requires equal-lengnth (pre-aligned) strings."
   ]
  },
  {
   "cell_type": "code",
   "execution_count": null,
   "id": "e955c731",
   "metadata": {},
   "outputs": [],
   "source": [
    "s1 = skbio.DNA(sequence=\"ACCGGTGACCAGTTGACCAGT\")\n",
    "s2 = skbio.DNA(sequence=\"ATCGGTACCGGTAGAAGT\")\n",
    "s3 = skbio.DNA(sequence=\"GGTACCAAATAGAA\")\n",
    "\n",
    "# DNA.distance is just applying here:\n",
    "# 3 optional default\n",
    "print(kmer_distance(sequence1=s1, sequence2=s2))\n",
    "# or:\n",
    "print(s1.distance(s2, metric=kmer_distance))\n",
    "\n",
    "print(kmer_distance(sequence1=s1, sequence2=s3))\n",
    "# or\n",
    "print(s1.distance(s3, metric=kmer_distance))\n",
    "\n",
    "# If we wanted to include a k\n",
    "print(kmer_distance(sequence1=s1, sequence2=s3, k=3))\n",
    "# Alternative to this below:"
   ]
  },
  {
   "cell_type": "markdown",
   "id": "3a08f9dd",
   "metadata": {},
   "source": [
    "Another way: if we wanted to override the default to create (for example) a 5-mer distance function, we could use ``functools.partial``."
   ]
  },
  {
   "cell_type": "code",
   "execution_count": null,
   "id": "6c23fa8f",
   "metadata": {},
   "outputs": [],
   "source": [
    "fivemer_distance = functools.partial(kmer_distance, k=5)\n",
    "\n",
    "s1 = skbio.DNA(sequence=\"ACCGGTGACCAGTTGACCAGT\")\n",
    "s2 = skbio.DNA(sequence=\"ATCGGTACCGGTAGAAGT\")\n",
    "s3 = skbio.DNA(sequence=\"GGTACCAAATAGAA\")\n",
    "\n",
    "print(s1.distance(s2, metric=fivemer_distance))\n",
    "print(s1.distance(s3, metric=fivemer_distance))"
   ]
  },
  {
   "cell_type": "markdown",
   "id": "e1c21ee1",
   "metadata": {},
   "source": [
    "We can now apply one of these functions to build a distance matrix for a\n",
    "set of sequences that we want to align.\n",
    "\n",
    "![image11.png](./images/image11.png)"
   ]
  },
  {
   "cell_type": "markdown",
   "id": "e4d1a2b3",
   "metadata": {},
   "source": [
    "Suppose these data are to be analyzed, where pixel Euclidean distance is\n",
    "the distance metric.\n",
    "\n",
    "|  \\- |    a   |     b     |     c    |     d     |     e    |   f   |\n",
    "|:---:|:------:|:---------:|:--------:|:---------:|:--------:|:-----:|\n",
    "|  a  |  0     |   184     |  222     |  177      |  216     | 231   |\n",
    "|  b  | 184    |     0     |   45     |  123      |  128     | 200   |\n",
    "|  c  | 222    |    45     |    0     |  129      |  121     | 203   |\n",
    "|  d  | 177    |   123     |  129     |    0      |   46     |  83   |\n",
    "|  e  | 216    |   128     |  121     |   46      |    0     |  83   |\n",
    "|  f  | 231    |   200     |  203     |   83      |   83     |   0   |\n",
    "\n",
    "These data can then be viewed in graphic form as a heat map. In this\n",
    "image, black denotes a distance of 0 and white is maximal distance:\n",
    "\n",
    "![image12.png](./images/image12.png)\n",
    "\n",
    "Do we need both the top half and bottom half, above and below the diagonal?"
   ]
  },
  {
   "cell_type": "markdown",
   "id": "adc04a0d",
   "metadata": {},
   "source": [
    "<a href=\"http://www.slimsuite.unsw.edu.au/teaching/upgma/\" class=\"uri\">http://www.slimsuite.unsw.edu.au/teaching/upgma/</a>\n",
    "\n",
    "* The images below include a walkthrough of clustering 7 biological sequences (A-G) using the Unweighted Pair-Group Method with Arithmetic mean (UPGMA) method.\n",
    "* UPGMA is actually a generic method and thus the walkthrough could apply to any objects A-G for which pairwise distances can be calculated.\n",
    "* UPGMA is a distance method and therefore needs a distance matrix.\n",
    "* UPGMA is \"ultrametric\", meaning that all the terminal nodes (i.e. the sequences/taxa) are equally distant from the root.\n",
    "* In molecular terms, this means that UPGMA assumes an even molecular clock, i.e. all lineages are evolving at a constant rate.\n",
    "* In practical terms, this means that you can construct a distance scale bar and all the terminal nodes will be level at position 0.0, representing the present.\n",
    "* In this example, the scale bar is shown on the right-hand side.\n",
    "\n",
    "![image13.png](./images/image13.png)"
   ]
  },
  {
   "cell_type": "markdown",
   "id": "80168d24",
   "metadata": {},
   "source": [
    "![image14.png](./images/image14.png)\n",
    "\n",
    "Each round of UPGMA follows the same pattern.\n",
    "\n",
    "1.  Identify the shortest pairwise distance in the matrix. This\n",
    "    identifies the two sequences to be clustered.\n",
    "\n",
    "2.  Join the two sequences identified.\n",
    "\n",
    "3.  The pair should be linked at a depth that is half of the shortest\n",
    "    pairwise distance.\n",
    "\n",
    "4.  The tip-to-tip distance between the joined elements will equal the\n",
    "    shortest distance."
   ]
  },
  {
   "cell_type": "markdown",
   "id": "8099c824",
   "metadata": {},
   "source": [
    "![image15.png](./images/image15.png)\n",
    "\n",
    "-   The two sequences joined (B and F) are removed from the original\n",
    "    matrix and replaced by the new clade (BF).\n",
    "\n",
    "-   Each distance between BF and the other sequences (A, C, D, E and G)\n",
    "    is the mean distance between them and B and F from the original\n",
    "    matrix.\n",
    "\n",
    "E.g., $d(A, BF) = (d(A, B) + d(A, F))/2$"
   ]
  },
  {
   "cell_type": "markdown",
   "id": "de965663",
   "metadata": {},
   "source": [
    "![image16.png](./images/image16.png)\n",
    "\n",
    "-   Identify the shortest pairwise distance in the new matrix.\n",
    "\n",
    "-   As before, join the two items at a depth equal to half the pairwise\n",
    "    distance."
   ]
  },
  {
   "cell_type": "markdown",
   "id": "7103eda8",
   "metadata": {},
   "source": [
    "![image17.png](./images/image17.png)\n",
    "\n",
    "-   Each time the new matrix is made, distance are taken from the\n",
    "    original matrix (top).\n",
    "\n",
    "-   All of the values to be replaced in the new matrix will come from\n",
    "    the rows and columns corresponding to the sequences in the new clade\n",
    "    (A and D), highlighted by the dashed orange boxes."
   ]
  },
  {
   "cell_type": "markdown",
   "id": "9a51a290",
   "metadata": {},
   "source": [
    "![image18.png](./images/image18.png)\n",
    "\n",
    "-   As before, mean values are calculated using the individual pairwise\n",
    "    values from the original matrix.\n",
    "\n",
    "-   Where the new cluster (AD) is being compared to the previous cluster\n",
    "    (BF), all pairwise combinations between the groups are used for the\n",
    "    calculation,\n",
    "\n",
    "E.g., $d(AD, BF) = (d(A, B) + d(A, F) + d(D, B) + d(D, F)) / 4$"
   ]
  },
  {
   "cell_type": "markdown",
   "id": "92bdeffa",
   "metadata": {},
   "source": [
    "![image19.png](./images/image19.png)\n",
    "\n",
    "-   Again, the shortest pairwise distance in the new matrix is used to\n",
    "    identify the groups/sequences to be clustered.\n",
    "\n",
    "-   In this case, sequence G is added to the BF clade.\n",
    "\n",
    "-   Again, the depth of the join is half the pairwise distance.\n",
    "\n",
    "-   The tip-to-tip paths from B or F to G equals the full distance."
   ]
  },
  {
   "cell_type": "markdown",
   "id": "a01c8d06",
   "metadata": {},
   "source": [
    "![image20.png](./images/image20.png)\n",
    "\n",
    "-   Again, when generating the new matrix, use the pairwise distances\n",
    "    from the original matrix.\n",
    "-   UPGMA is unweighted, so all pairwise distances contribute equally.\n",
    "-   This means that the distance between BFG and AD is the mean of all\n",
    "    six possible pairwise combinations."
   ]
  },
  {
   "cell_type": "markdown",
   "id": "90eff139",
   "metadata": {},
   "source": [
    "![image21.png](./images/image21.png)\n",
    "\n",
    "-   The rest of the new BFG columns and rows are calculated as the mean\n",
    "    distances of B, F and G with the remaining sequences C and E.\n",
    "-   Note that all the pairwise distances in the rows and columns for B,\n",
    "    F and G are either used for calculating the new means (coloured\n",
    "    boxes) or are internal distances within the BFG clade (red and green\n",
    "    text)."
   ]
  },
  {
   "cell_type": "markdown",
   "id": "520d7647",
   "metadata": {},
   "source": [
    "![image22.png](./images/image22.png)\n",
    "\n",
    "-   The cycle is repeated as before.\n",
    "-   This time, no new sequences are added but the two existing clades\n",
    "    (AD and BFG) are joined at a depth of half the mean pairwise\n",
    "    distance between AD and BFG.\n",
    "-   All possible tip-to-tip distances between A/D and B/F/G add up to\n",
    "    the full distance."
   ]
  },
  {
   "cell_type": "markdown",
   "id": "4f6b1ea5",
   "metadata": {},
   "source": [
    "![image23.png](./images/image23.png)\n",
    "\n",
    "Again, the distance matrix shrinks by one and mean distances are\n",
    "calculated for the new clade, ADBFG."
   ]
  },
  {
   "cell_type": "markdown",
   "id": "cb59dc7d",
   "metadata": {},
   "source": [
    "![image24.png](./images/image24.png)\n",
    "\n",
    "Make penultimate join using shortest pairwise distance in new matrix, as\n",
    "previously."
   ]
  },
  {
   "cell_type": "markdown",
   "id": "72f8e68d",
   "metadata": {},
   "source": [
    "![image25.png](./images/image25.png)\n",
    "\n",
    "-   Once the final join has been made, the UPGMA tree is complete.\n",
    "-   UPGMA is inherently rooted and thus the root is placed at the\n",
    "    deepest point of the tree, at a depth of half the final mean\n",
    "    pairwise distance.\n",
    "-   All root to tip distances are the same, meaning that this method\n",
    "    assumes a molecular clock for sequence data, i.e., a constant rate\n",
    "    of evolution throughout the tree.\n",
    "-   In more general terms (e.g. for non-molecular data), such a tree is\n",
    "    referred to as \"ultrametric\"."
   ]
  },
  {
   "cell_type": "markdown",
   "id": "9787bbae",
   "metadata": {},
   "source": [
    "![image26.png](./images/image26.png)\n",
    "\n",
    "-   Once the UPGMA method is finished, all the pairwise distances in the\n",
    "    original matrix will have contributed to one and only one of the\n",
    "    shortest distances used in the clustering.\n",
    "-   These are colour coded in the example.\n",
    "-   E.g., the two green pairwise distances, $d(B,G)$ and $d(F,G)$,\n",
    "    generated the distance 12.50 used in the third cycle to join BF\n",
    "    and G."
   ]
  },
  {
   "cell_type": "markdown",
   "id": "ffbacef5",
   "metadata": {},
   "source": [
    "![image27.png](./images/image27.png)\n",
    "\n",
    "For clarity, this data represents only a subset of the taxa included in\n",
    "the original Fitch & Margoliash paper:\n",
    "<a href=\"http://www.ncbi.nlm.nih.gov/pubmed/5334057\" class=\"uri\">http://www.ncbi.nlm.nih.gov/pubmed/5334057</a>"
   ]
  },
  {
   "cell_type": "markdown",
   "id": "cdcc521c",
   "metadata": {},
   "source": [
    "![image28.png](./images/image28.png)\n",
    "\n",
    "-   In this example, therefore, human (B) and monkey (F) are the closest\n",
    "    pair, which next group with dog (G) (the other mammal), then the\n",
    "    chicken (D)/turtle (A) (the other Amniota), then tuna (fish) (C) to\n",
    "    form a vertebrate clade and finally moth (insect) (E).\n",
    "-   Based on this data, Cytochrome C supports the known phylogenetic\n",
    "    relationship of these organisms.\n",
    "-   In the original paper, they get the same relationship for these\n",
    "    organisms (and more!) using a different method."
   ]
  },
  {
   "cell_type": "markdown",
   "id": "8c410e99",
   "metadata": {},
   "source": [
    "#### +++++++++++++++ Cahoot-09-3"
   ]
  },
  {
   "cell_type": "markdown",
   "id": "73341662",
   "metadata": {},
   "source": [
    "### The cytochrome complex, or cyt c is a small heme-protein found loosely associated with the inner membrane of the mitochondrion.\n",
    "\n",
    "* Cytochrome c is a component of the electron transport chain in mitochondria.\n",
    "* Cytochrome c also has an intermediate role in apoptosis, a controlled form of programmed cell death used to selectively kill cells in the process of development, or in response to infection or DNA damage.\n",
    "\n",
    "Side note: When graphing the protein interaction network in relation to\n",
    "all cancers, the mitochondrial proteins are central.\n",
    "\n",
    "![image29.png](./images/image29.png)\n",
    "\n",
    "The electron transport chain in the mitochondrion is the site of\n",
    "oxidative phosphorylation in eukaryotes. The NADH and succinate\n",
    "generated in the citric acid cycle are oxidized, providing energy to\n",
    "power ATP synthase."
   ]
  },
  {
   "cell_type": "markdown",
   "id": "bb94154e",
   "metadata": {
    "lines_to_next_cell": 0
   },
   "source": [
    "UPGMA summary ![image30.png](./images/image30.png)\n",
    "\n",
    "We can next use some functionality from SciPy to cluster bio sequences\n",
    "with UPGMA, and print out a dendrogram."
   ]
  },
  {
   "cell_type": "code",
   "execution_count": null,
   "id": "a1437ade",
   "metadata": {},
   "outputs": [],
   "source": [
    "query_sequences = [\n",
    "    skbio.DNA(sequence=\"ACCGGTGACCAGTTGACCAGT\", metadata={\"id\": \"s1\"}),\n",
    "    skbio.DNA(sequence=\"ATCGGTACCGGTAGAAGT\", metadata={\"id\": \"s2\"}),\n",
    "    skbio.DNA(sequence=\"GGTACCAAATAGAA\", metadata={\"id\": \"s3\"}),\n",
    "    skbio.DNA(sequence=\"GGCACCAAACAGAA\", metadata={\"id\": \"s4\"}),\n",
    "    skbio.DNA(sequence=\"GGCCCACTGAT\", metadata={\"id\": \"s5\"}),\n",
    "]"
   ]
  },
  {
   "cell_type": "code",
   "execution_count": null,
   "id": "cf8c6154",
   "metadata": {},
   "outputs": [],
   "source": [
    "help(skbio.DistanceMatrix.from_iterable)"
   ]
  },
  {
   "cell_type": "code",
   "execution_count": null,
   "id": "53a33c29",
   "metadata": {},
   "outputs": [],
   "source": [
    "guide_dm = skbio.DistanceMatrix.from_iterable(\n",
    "    iterable=query_sequences, metric=kmer_distance, key=\"id\"\n",
    ")\n",
    "\n",
    "print(guide_dm)"
   ]
  },
  {
   "cell_type": "markdown",
   "id": "ba7e18fe",
   "metadata": {},
   "source": [
    "scikit-bio also has some basic visualization functionality for these objects. For example, we can easily visualize this object as a heatmap."
   ]
  },
  {
   "cell_type": "code",
   "execution_count": null,
   "id": "6f5bef7c",
   "metadata": {},
   "outputs": [],
   "source": [
    "fig = guide_dm.plot(cmap=\"Greens\")"
   ]
  },
  {
   "cell_type": "code",
   "execution_count": null,
   "id": "5bed09d0",
   "metadata": {},
   "outputs": [],
   "source": [
    "# help(sp.cluster.hierarchy.average)"
   ]
  },
  {
   "cell_type": "code",
   "execution_count": null,
   "id": "b1488d2d",
   "metadata": {},
   "outputs": [],
   "source": [
    "# help(sp.cluster.hierarchy.linkage)"
   ]
  },
  {
   "cell_type": "code",
   "execution_count": null,
   "id": "d3e64d4f",
   "metadata": {},
   "outputs": [],
   "source": [
    "# help(sp.cluster.hierarchy.dendrogram)"
   ]
  },
  {
   "cell_type": "code",
   "execution_count": null,
   "id": "58f4f0e4",
   "metadata": {},
   "outputs": [],
   "source": [
    "# help(sp.cluster.hierarchy.to_tree)"
   ]
  },
  {
   "cell_type": "code",
   "execution_count": null,
   "id": "fadf3dc4",
   "metadata": {},
   "outputs": [],
   "source": [
    "# guide_dm is the distance matrix above, which we can plot as a color heatmap\n",
    "fig = guide_dm.plot(cmap=\"Greens\")"
   ]
  },
  {
   "cell_type": "code",
   "execution_count": null,
   "id": "51c88f29",
   "metadata": {},
   "outputs": [],
   "source": [
    "print(\"Matrix form: \\n\", guide_dm)\n",
    "\n",
    "# Toss the matrix above the diagonal. Assumes symmetry\n",
    "print(\"\\n Condensed: \\n\", guide_dm.condensed_form())\n",
    "print(\n",
    "    \"\\n Clustering on the condensed \\n\",\n",
    "    sp.cluster.hierarchy.average(y=guide_dm.condensed_form()),\n",
    ")"
   ]
  },
  {
   "cell_type": "markdown",
   "id": "b3f5918c",
   "metadata": {},
   "source": [
    "For Average() data format:\n",
    "* The distance between clusters ``Z[i, 0]`` and ``Z[i, 1]`` is given by ``Z[i, 2]``.\n",
    "* The fourth value ``Z[i, 3]`` represents the number of original observations in the newly formed cluster."
   ]
  },
  {
   "cell_type": "code",
   "execution_count": null,
   "id": "82b9fa69",
   "metadata": {},
   "outputs": [],
   "source": [
    "# help(skbio.DistanceMatrix)"
   ]
  },
  {
   "cell_type": "code",
   "execution_count": null,
   "id": "e88a8bc1",
   "metadata": {},
   "outputs": [],
   "source": [
    "# help(skbio.DistanceMatrix.condensed_form)"
   ]
  },
  {
   "cell_type": "code",
   "execution_count": null,
   "id": "89f47005",
   "metadata": {},
   "outputs": [],
   "source": [
    "for q in query_sequences:\n",
    "    print(q)\n",
    "\n",
    "guide_lm = sp.cluster.hierarchy.average(y=guide_dm.condensed_form())\n",
    "print(\"\\nguide lm\\n\", guide_lm)\n",
    "\n",
    "guide_d = sp.cluster.hierarchy.dendrogram(\n",
    "    Z=guide_lm,\n",
    "    labels=guide_dm.ids,\n",
    "    orientation=\"right\",\n",
    "    link_color_func=lambda x: \"black\",\n",
    ")\n",
    "print(\"\\nguide_d\\n\", guide_d)\n",
    "\n",
    "guide_tree = sp.cluster.hierarchy.to_tree(Z=guide_lm)"
   ]
  },
  {
   "cell_type": "code",
   "execution_count": null,
   "id": "7cb34e95",
   "metadata": {},
   "outputs": [],
   "source": [
    "def guide_tree_from_sequences(\n",
    "    sequences: list[skbio.Sequence],\n",
    "    metric: Callable[\n",
    "        [skbio.Sequence, skbio.Sequence, int, bool], float\n",
    "    ] = kmer_distance,\n",
    "    display_tree: bool = False,\n",
    ") -> sp.cluster.hierarchy.ClusterNode:\n",
    "    \"\"\"Build a UPGMA tree by applying metric to sequences\n",
    "\n",
    "    Parameters\n",
    "    ----------\n",
    "    sequences : list of skbio.Sequence objects (or subclasses)\n",
    "      The sequences to be represented in the resulting guide tree.\n",
    "    metric : function\n",
    "      Function that returns a single distance value when given a pair of\n",
    "      skbio.Sequence objects.\n",
    "    display_tree : bool, optional\n",
    "      Print the tree before returning.\n",
    "\n",
    "    Returns\n",
    "    -------\n",
    "    skbio.TreeNode\n",
    "\n",
    "    \"\"\"\n",
    "    guide_dm = skbio.DistanceMatrix.from_iterable(\n",
    "        iterable=sequences, metric=metric, key=\"id\"\n",
    "    )\n",
    "    guide_lm = sp.cluster.hierarchy.average(y=guide_dm.condensed_form())\n",
    "    guide_tree = sp.cluster.hierarchy.to_tree(Z=guide_lm)\n",
    "    if display_tree:\n",
    "        guide_d = sp.cluster.hierarchy.dendrogram(\n",
    "            Z=guide_lm,\n",
    "            labels=guide_dm.ids,\n",
    "            orientation=\"right\",\n",
    "            link_color_func=lambda x: \"black\",\n",
    "        )\n",
    "    return guide_tree"
   ]
  },
  {
   "cell_type": "code",
   "execution_count": null,
   "id": "7bb24d57",
   "metadata": {},
   "outputs": [],
   "source": [
    "t = guide_tree_from_sequences(sequences=query_sequences, display_tree=True)"
   ]
  },
  {
   "cell_type": "markdown",
   "id": "68ada8dc",
   "metadata": {},
   "source": [
    "We now have a guide tree, so we can move on to the next step of progressive alignment."
   ]
  },
  {
   "cell_type": "markdown",
   "id": "f714a100",
   "metadata": {},
   "source": [
    "### Generalization of Needleman-Wunsch (with affine gap scoring) for progressive multiple sequence alignment"
   ]
  },
  {
   "cell_type": "markdown",
   "id": "f6bd97bb",
   "metadata": {},
   "source": [
    "* Next, we'll address our second burning question: aligning alignments.\n",
    "* As illustrated above, there are basically three different types of pairwise alignment we need to support for progressive multiple sequence alignment with Needleman-Wunsch:\n",
    "    1. Alignment of a pair of sequences.\n",
    "    2. Alignment of a sequence and an alignment.\n",
    "    3. Alignment of a pair of alignments."
   ]
  },
  {
   "cell_type": "markdown",
   "id": "57d5c17f",
   "metadata": {},
   "source": [
    "* Standard Needleman-Wunsch supports the first, and it is very easy to generalize it to support the latter two.\n",
    "* The only change that is necessary is in how the alignment of two non-gap characters is scored.\n",
    "* Recall that we previously scored an alignment of two characters by looking up the score of substitution from one to the other in a substitution matrix.\n",
    "* To adapt this for aligning a sequence to an alignment, or for aligning an alignment to an alignment, we compute this substitution as the average score of aligning the pairs of characters."
   ]
  },
  {
   "cell_type": "markdown",
   "id": "2b9665fe",
   "metadata": {},
   "source": [
    "For example, if we want to align the alignment column from $aln1$:"
   ]
  },
  {
   "cell_type": "markdown",
   "id": "aaaef46e",
   "metadata": {},
   "source": [
    "```\n",
    "A\n",
    "C\n",
    "```"
   ]
  },
  {
   "cell_type": "markdown",
   "id": "dc01a334",
   "metadata": {},
   "source": [
    "to the alignment column from $aln2$:"
   ]
  },
  {
   "cell_type": "markdown",
   "id": "7cafb95d",
   "metadata": {},
   "source": [
    "```\n",
    "T\n",
    "G\n",
    "```"
   ]
  },
  {
   "cell_type": "markdown",
   "id": "1a2cad07",
   "metadata": {},
   "source": [
    "Where `n_seq` is the number of sequences for a given alignment, we could compute the substitution score using the matrix $m$ as:"
   ]
  },
  {
   "cell_type": "markdown",
   "id": "c946e4aa",
   "metadata": {},
   "source": [
    "$$\n",
    "s = \\frac{m[A][T] + m[A][G] + m[C][T] + m[C][G]}{aln1_{nseq} \\times aln2_{nseq}}\n",
    "$$\n",
    "\n",
    "Why multiplication?\n",
    "===================\n",
    "\n",
    "How many $m[][]$ lookups for an alignment between two alignments, each\n",
    "with 3 pre-aligned sequences within them?"
   ]
  },
  {
   "cell_type": "code",
   "execution_count": null,
   "id": "250ea2f5",
   "metadata": {},
   "outputs": [],
   "source": [
    "print(skbio.alignment._pairwise._traceback_encoding)"
   ]
  },
  {
   "cell_type": "code",
   "execution_count": null,
   "id": "867c4999",
   "metadata": {},
   "outputs": [],
   "source": [
    "# %psource skbio.alignment._pairwise._compute_score_and_traceback_matrices"
   ]
  },
  {
   "cell_type": "code",
   "execution_count": null,
   "id": "5529e369",
   "metadata": {},
   "outputs": [],
   "source": [
    "# %psource skbio.alignment._pairwise._compute_substitution_score"
   ]
  },
  {
   "cell_type": "code",
   "execution_count": null,
   "id": "48b4894a",
   "metadata": {},
   "outputs": [],
   "source": [
    "# %psource skbio.alignment._pairwise._traceback"
   ]
  },
  {
   "cell_type": "code",
   "execution_count": null,
   "id": "867d1c9a",
   "metadata": {},
   "outputs": [],
   "source": [
    "# %psource skbio.alignment.global_pairwise_align_nucleotide"
   ]
  },
  {
   "cell_type": "code",
   "execution_count": null,
   "id": "87eff415",
   "metadata": {},
   "outputs": [],
   "source": [
    "# %psource skbio.alignment.global_pairwise_align"
   ]
  },
  {
   "cell_type": "markdown",
   "id": "06560769",
   "metadata": {},
   "source": [
    "* The following code adapts our implementation of Needleman-Wunsch to support aligning a sequence to an alignment, or aligning an alignment to an alignment.\n",
    "* For the sake of the examples below, we're overriding one of the ``global_pairwise_align_nucleotide`` defaults to penalize terminal gaps.\n",
    "    * This effectively tells the algorithm that we know we have a collection of sequences that are homologous from beginning to end."
   ]
  },
  {
   "cell_type": "code",
   "execution_count": null,
   "id": "736c6044",
   "metadata": {},
   "outputs": [],
   "source": [
    "global_pairwise_align_nucleotide = functools.partial(\n",
    "    skbio.alignment.global_pairwise_align_nucleotide, penalize_terminal_gaps=True\n",
    ")"
   ]
  },
  {
   "cell_type": "markdown",
   "id": "fd74c2e6",
   "metadata": {},
   "source": [
    "For example, we can still use this code to align pairs of sequences (but note that we now need to pass those sequences in as a pair of one-item lists):"
   ]
  },
  {
   "cell_type": "code",
   "execution_count": null,
   "id": "0b8ea5b5",
   "metadata": {},
   "outputs": [],
   "source": [
    "aln1, _, _ = global_pairwise_align_nucleotide(\n",
    "    seq1=query_sequences[0], seq2=query_sequences[1]\n",
    ")\n",
    "print(aln1)"
   ]
  },
  {
   "cell_type": "markdown",
   "id": "33c6b36e",
   "metadata": {},
   "source": [
    "We can align that alignment to one of our other sequences."
   ]
  },
  {
   "cell_type": "code",
   "execution_count": null,
   "id": "81876352",
   "metadata": {},
   "outputs": [],
   "source": [
    "aln1, _, _ = global_pairwise_align_nucleotide(seq1=aln1, seq2=query_sequences[2])\n",
    "print(aln1)"
   ]
  },
  {
   "cell_type": "markdown",
   "id": "546afa60",
   "metadata": {},
   "source": [
    "Alternatively, we can align another pair of sequences:"
   ]
  },
  {
   "cell_type": "code",
   "execution_count": null,
   "id": "915a33a0",
   "metadata": {},
   "outputs": [],
   "source": [
    "aln2, _, _ = global_pairwise_align_nucleotide(\n",
    "    seq1=query_sequences[2], seq2=query_sequences[3]\n",
    ")\n",
    "print(aln2)"
   ]
  },
  {
   "cell_type": "markdown",
   "id": "12b2708f",
   "metadata": {},
   "source": [
    "And then align that alignment against our previous alignment:"
   ]
  },
  {
   "cell_type": "code",
   "execution_count": null,
   "id": "30f75cb5",
   "metadata": {},
   "outputs": [],
   "source": [
    "aln3, _, _ = global_pairwise_align_nucleotide(seq1=aln1, seq2=aln2)\n",
    "print(aln3)"
   ]
  },
  {
   "cell_type": "markdown",
   "id": "91e11134",
   "metadata": {},
   "source": [
    "#### +++++++++++++++ Cahoot-09-4"
   ]
  },
  {
   "cell_type": "markdown",
   "id": "7195b935",
   "metadata": {},
   "source": [
    "### Putting it all together: progressive multiple sequence alignment"
   ]
  },
  {
   "cell_type": "markdown",
   "id": "91e9fd3e",
   "metadata": {},
   "source": [
    "We can now combine all of these steps to:\n",
    "* take a set of query sequences,\n",
    "* build a guide tree,\n",
    "* perform progressive multiple sequence alignment, and\n",
    "* return\n",
    "    * the guide tree (as a SciPy linkage matrix), and\n",
    "    * the alignment."
   ]
  },
  {
   "cell_type": "code",
   "execution_count": null,
   "id": "f8d10e41",
   "metadata": {},
   "outputs": [],
   "source": [
    "# Recall from above:\n",
    "guide_d = sp.cluster.hierarchy.dendrogram(\n",
    "    Z=guide_lm,\n",
    "    labels=guide_dm.ids,\n",
    "    orientation=\"right\",\n",
    "    link_color_func=lambda x: \"black\",\n",
    ")"
   ]
  },
  {
   "cell_type": "code",
   "execution_count": null,
   "id": "c1164dbc",
   "metadata": {},
   "outputs": [],
   "source": [
    "help(skbio.TreeNode.from_linkage_matrix)"
   ]
  },
  {
   "cell_type": "code",
   "execution_count": null,
   "id": "fe6a1462",
   "metadata": {},
   "outputs": [],
   "source": [
    "guide_tree = skbio.TreeNode.from_linkage_matrix(\n",
    "    linkage_matrix=guide_lm, id_list=guide_dm.ids\n",
    ")"
   ]
  },
  {
   "cell_type": "markdown",
   "id": "4fcb3164",
   "metadata": {},
   "source": [
    "We can view the guide tree in Newick format as follows:\n",
    "http://scikit-bio.org/docs/latest/generated/skbio.io.format.newick.html\n",
    "\n",
    "<a href=\"https://en.wikipedia.org/wiki/Newick_format\" class=\"uri\">https://en.wikipedia.org/wiki/Newick_format</a>"
   ]
  },
  {
   "cell_type": "code",
   "execution_count": null,
   "id": "58633d70",
   "metadata": {
    "lines_to_next_cell": 2
   },
   "outputs": [],
   "source": [
    "print(guide_tree)"
   ]
  },
  {
   "cell_type": "markdown",
   "id": "8caf4ffc",
   "metadata": {
    "lines_to_next_cell": 2
   },
   "source": [
    "Recall - what kind of tree traversal produces this order of operations?\n",
    "=======================================================================\n",
    "\n",
    "Does the alignment happen before or after recursive call ?\n",
    "=========================================================="
   ]
  },
  {
   "cell_type": "code",
   "execution_count": null,
   "id": "7829462f",
   "metadata": {},
   "outputs": [],
   "source": [
    "# The recursive function:\n",
    "def progressive_msa(sequences, pairwise_aligner, guide_tree=None, metric=kmer_distance):\n",
    "    \"\"\"Perform progressive msa of sequences\n",
    "\n",
    "    Parameters\n",
    "    ----------\n",
    "    sequences : skbio.SequenceCollection\n",
    "        The sequences to be aligned.\n",
    "    metric : function, optional\n",
    "      Function that returns a single distance value when given a pair of\n",
    "      skbio.Sequence objects. This will be used to build a guide tree if one\n",
    "      is not provided.\n",
    "    guide_tree : skbio.TreeNode, optional\n",
    "        The tree that should be used to guide the alignment process.\n",
    "    pairwise_aligner : function\n",
    "        Function that should be used to perform the pairwise alignments,\n",
    "        for example skbio.alignment.global_pairwise_align_nucleotide. Must\n",
    "        support skbio.Sequence objects or skbio.TabularMSA objects\n",
    "        as input.\n",
    "\n",
    "    Returns\n",
    "    -------\n",
    "    skbio.TabularMSA\n",
    "\n",
    "    \"\"\"\n",
    "\n",
    "    if guide_tree is None:\n",
    "        guide_dm = skbio.DistanceMatrix.from_iterable(\n",
    "            iterable=sequences, metric=metric, key=\"id\"\n",
    "        )\n",
    "        guide_lm = sp.cluster.hierarchy.average(y=guide_dm.condensed_form())\n",
    "        guide_tree = skbio.TreeNode.from_linkage_matrix(\n",
    "            linkage_matrix=guide_lm, id_list=guide_dm.ids\n",
    "        )\n",
    "\n",
    "    seq_lookup = {s.metadata[\"id\"]: s for i, s in enumerate(sequences)}\n",
    "\n",
    "    # working our way down, first children may be super-nodes,\n",
    "    # then eventually, they'll be leaves\n",
    "    c1, c2 = guide_tree.children\n",
    "\n",
    "    # Recursive base case\n",
    "    if c1.is_tip():\n",
    "        c1_aln = seq_lookup[c1.name]\n",
    "    else:\n",
    "        c1_aln = progressive_msa(\n",
    "            sequences=sequences, pairwise_aligner=pairwise_aligner, guide_tree=c1\n",
    "        )\n",
    "\n",
    "    if c2.is_tip():\n",
    "        c2_aln = seq_lookup[c2.name]\n",
    "    else:\n",
    "        c2_aln = progressive_msa(\n",
    "            sequences=sequences, pairwise_aligner=pairwise_aligner, guide_tree=c2\n",
    "        )\n",
    "\n",
    "    # working our way up, doing alignments, from the bottom up\n",
    "    alignment, _, _ = pairwise_aligner(seq1=c1_aln, seq2=c2_aln)\n",
    "\n",
    "    # this is a temporary hack as the aligners in skbio 0.4.1 are dropping\n",
    "    # metadata - this makes sure that the right metadata is associated with\n",
    "    # the sequence after alignment\n",
    "    if isinstance(c1_aln, skbio.Sequence):\n",
    "        alignment[0].metadata = c1_aln.metadata\n",
    "        len_c1_aln = 1\n",
    "    else:\n",
    "        for i in range(len(c1_aln)):\n",
    "            alignment[i].metadata = c1_aln[i].metadata\n",
    "        len_c1_aln = len(c1_aln)\n",
    "    if isinstance(c2_aln, skbio.Sequence):\n",
    "        alignment[1].metadata = c2_aln.metadata\n",
    "    else:\n",
    "        for i in range(len(c2_aln)):\n",
    "            alignment[len_c1_aln + i].metadata = c2_aln[i].metadata\n",
    "\n",
    "    # feed alignment back up, for further aligment, or eventually final return\n",
    "    return alignment"
   ]
  },
  {
   "cell_type": "code",
   "execution_count": null,
   "id": "2a66e08d",
   "metadata": {},
   "outputs": [],
   "source": [
    "msa = progressive_msa(\n",
    "    sequences=query_sequences,\n",
    "    pairwise_aligner=global_pairwise_align_nucleotide,\n",
    "    guide_tree=guide_tree,\n",
    ")\n",
    "print(msa)"
   ]
  },
  {
   "cell_type": "markdown",
   "id": "324bbee3",
   "metadata": {},
   "source": [
    "* We can now build a (hopefully) improved tree from our multiple sequence alignment.\n",
    "* First we'll look at our original distance matrix again, and then the distance matrix generated from the progressive multiple sequence alignment."
   ]
  },
  {
   "cell_type": "code",
   "execution_count": null,
   "id": "1f649f3c",
   "metadata": {
    "lines_to_next_cell": 0
   },
   "outputs": [],
   "source": [
    "# Original, made from kmer distance on sequences, guide tree\n",
    "fig = guide_dm.plot(cmap=\"Greens\")"
   ]
  },
  {
   "cell_type": "code",
   "execution_count": null,
   "id": "2042f6cf",
   "metadata": {},
   "outputs": [],
   "source": [
    "# Current after-alignment tree data\n",
    "msa_dm = skbio.DistanceMatrix.from_iterable(\n",
    "    iterable=msa, metric=kmer_distance, key=\"id\"\n",
    ")\n",
    "fig = msa_dm.plot(cmap=\"Greens\")"
   ]
  },
  {
   "cell_type": "markdown",
   "id": "438360d0",
   "metadata": {},
   "source": [
    "* The UPGMA trees that result from these alignments are different.\n",
    "    * Note both the ID's at left, and the depth of the forks.\n",
    "* First we'll look at the guide tree, and then the tree resulting from the progressive multiple sequence alignment."
   ]
  },
  {
   "cell_type": "code",
   "execution_count": null,
   "id": "07cf11b6",
   "metadata": {},
   "outputs": [],
   "source": [
    "d = sp.cluster.hierarchy.dendrogram(\n",
    "    Z=guide_lm,\n",
    "    labels=guide_dm.ids,\n",
    "    orientation=\"right\",\n",
    "    link_color_func=lambda x: \"black\",\n",
    ")"
   ]
  },
  {
   "cell_type": "code",
   "execution_count": null,
   "id": "b4ea2b0b",
   "metadata": {
    "lines_to_next_cell": 2
   },
   "outputs": [],
   "source": [
    "msa_lm = sp.cluster.hierarchy.average(y=msa_dm.condensed_form())\n",
    "\n",
    "d = sp.cluster.hierarchy.dendrogram(\n",
    "    Z=msa_lm, labels=msa_dm.ids, orientation=\"right\", link_color_func=lambda x: \"black\"\n",
    ")"
   ]
  },
  {
   "cell_type": "markdown",
   "id": "63c41987",
   "metadata": {
    "lines_to_next_cell": 2
   },
   "source": [
    "And we can wrap this all up in a single convenience function:"
   ]
  },
  {
   "cell_type": "code",
   "execution_count": null,
   "id": "50141149",
   "metadata": {},
   "outputs": [],
   "source": [
    "def progressive_msa_and_tree(\n",
    "    sequences,\n",
    "    pairwise_aligner,\n",
    "    metric=kmer_distance,\n",
    "    guide_tree=None,\n",
    "    display_aln=False,\n",
    "    display_tree=False,\n",
    "):\n",
    "    \"\"\"Perform progressive msa of sequences and build a UPGMA tree\n",
    "    Parameters\n",
    "    ----------\n",
    "    sequences : skbio.SequenceCollection\n",
    "        The sequences to be aligned.\n",
    "    pairwise_aligner : function\n",
    "        Function that should be used to perform the pairwise alignments,\n",
    "        for example skbio.alignment.global_pairwise_align_nucleotide. Must\n",
    "        support skbio.Sequence objects or skbio.TabularMSA objects\n",
    "        as input.\n",
    "    metric : function, optional\n",
    "      Function that returns a single distance value when given a pair of\n",
    "      skbio.Sequence objects. This will be used to build a guide tree if one\n",
    "      is not provided.\n",
    "    guide_tree : skbio.TreeNode, optional\n",
    "        The tree that should be used to guide the alignment process.\n",
    "    display_aln : bool, optional\n",
    "        Print the alignment before returning.\n",
    "    display_tree : bool, optional\n",
    "        Print the tree before returning.\n",
    "\n",
    "    Returns\n",
    "    -------\n",
    "    skbio.alignment\n",
    "    skbio.TreeNode\n",
    "\n",
    "    \"\"\"\n",
    "    msa = progressive_msa(\n",
    "        sequences=sequences, pairwise_aligner=pairwise_aligner, guide_tree=guide_tree\n",
    "    )\n",
    "\n",
    "    if display_aln:\n",
    "        print(msa)\n",
    "\n",
    "    msa_dm = skbio.DistanceMatrix.from_iterable(iterable=msa, metric=metric, key=\"id\")\n",
    "    msa_lm = sp.cluster.hierarchy.average(y=msa_dm.condensed_form())\n",
    "    msa_tree = skbio.TreeNode.from_linkage_matrix(\n",
    "        linkage_matrix=msa_lm, id_list=msa_dm.ids\n",
    "    )\n",
    "    if display_tree:\n",
    "        print(\"\\nOutput tree:\")\n",
    "        d = sp.cluster.hierarchy.dendrogram(\n",
    "            msa_lm,\n",
    "            labels=msa_dm.ids,\n",
    "            orientation=\"right\",\n",
    "            link_color_func=lambda x: \"black\",\n",
    "        )\n",
    "    return msa, msa_tree"
   ]
  },
  {
   "cell_type": "code",
   "execution_count": null,
   "id": "4967f031",
   "metadata": {},
   "outputs": [],
   "source": [
    "msa = progressive_msa(\n",
    "    sequences=query_sequences,\n",
    "    pairwise_aligner=global_pairwise_align_nucleotide,\n",
    "    guide_tree=guide_tree,\n",
    ")"
   ]
  },
  {
   "cell_type": "code",
   "execution_count": null,
   "id": "e99cde2c",
   "metadata": {},
   "outputs": [],
   "source": [
    "msa, tree = progressive_msa_and_tree(\n",
    "    sequences=query_sequences,\n",
    "    pairwise_aligner=global_pairwise_align_nucleotide,\n",
    "    display_tree=True,\n",
    "    display_aln=True,\n",
    ")"
   ]
  },
  {
   "cell_type": "markdown",
   "id": "de83dbb6",
   "metadata": {},
   "source": [
    "## Progressive alignment versus iterative alignment\n"
   ]
  },
  {
   "cell_type": "markdown",
   "id": "2b25bf4e",
   "metadata": {
    "lines_to_next_cell": 2
   },
   "source": [
    "* In an iterative alignment, the output tree from the above progressive alignment is used as a guide tree, and the full process repeated.\n",
    "* This is performed to reduce errors that result from a low-quality guide tree."
   ]
  },
  {
   "cell_type": "code",
   "execution_count": null,
   "id": "d12e696c-9816-494c-bc20-047351d83bfc",
   "metadata": {},
   "outputs": [],
   "source": [
    "def iterative_msa_and_tree(\n",
    "    sequences,\n",
    "    num_iterations,\n",
    "    pairwise_aligner,\n",
    "    metric=kmer_distance,\n",
    "    display_aln=False,\n",
    "    display_tree=False,\n",
    "):\n",
    "    \"\"\"Perform progressive msa of sequences and build a UPGMA tree\n",
    "    Parameters\n",
    "    ----------\n",
    "    sequences : skbio.SequenceCollection\n",
    "       The sequences to be aligned.\n",
    "    num_iterations : int\n",
    "       The number of iterations of progressive multiple sequence alignment to\n",
    "       perform. Must be greater than zero and less than five.\n",
    "    pairwise_aligner : function\n",
    "       Function that should be used to perform the pairwise alignments,\n",
    "       for example skbio.alignment.global_pairwise_align_nucleotide. Must\n",
    "       support skbio.Sequence objects or skbio.TabularMSA objects\n",
    "       as input.\n",
    "    metric : function, optional\n",
    "      Function that returns a single distance value when given a pair of\n",
    "      skbio.Sequence objects. This will be used to build a guide tree if one\n",
    "      is not provided.\n",
    "    display_aln : bool, optional\n",
    "       Print the alignment before returning.\n",
    "    display_tree : bool, optional\n",
    "       Print the tree before returning.\n",
    "\n",
    "    Returns\n",
    "    -------\n",
    "    skbio.alignment\n",
    "    skbio.TreeNode\n",
    "\n",
    "    \"\"\"\n",
    "    if num_iterations > 5:\n",
    "        raise ValueError(\n",
    "            \"A maximum of five iterations is allowed.\"\n",
    "            \"You requested %d.\" % num_iterations\n",
    "        )\n",
    "    previous_iter_tree = None\n",
    "    for i in range(num_iterations):\n",
    "        if i == (num_iterations - 1):\n",
    "            # only display the last iteration\n",
    "            display = True\n",
    "        else:\n",
    "            display = False\n",
    "        previous_iter_msa, previous_iter_tree = progressive_msa_and_tree(\n",
    "            sequences=sequences,\n",
    "            pairwise_aligner=pairwise_aligner,\n",
    "            metric=metric,\n",
    "            guide_tree=previous_iter_tree,\n",
    "            display_aln=display_aln and display,\n",
    "            display_tree=display_tree and display,\n",
    "        )\n",
    "\n",
    "    return previous_iter_msa, previous_iter_tree"
   ]
  },
  {
   "cell_type": "code",
   "execution_count": null,
   "id": "9457f8ec",
   "metadata": {},
   "outputs": [],
   "source": [
    "msa, tree = iterative_msa_and_tree(\n",
    "    sequences=query_sequences,\n",
    "    pairwise_aligner=global_pairwise_align_nucleotide,\n",
    "    num_iterations=1,\n",
    "    display_aln=True,\n",
    "    display_tree=True,\n",
    ")"
   ]
  },
  {
   "cell_type": "code",
   "execution_count": null,
   "id": "c6a6cbfd",
   "metadata": {},
   "outputs": [],
   "source": [
    "msa, tree = iterative_msa_and_tree(\n",
    "    sequences=query_sequences,\n",
    "    pairwise_aligner=global_pairwise_align_nucleotide,\n",
    "    num_iterations=2,\n",
    "    display_aln=True,\n",
    "    display_tree=True,\n",
    ")"
   ]
  },
  {
   "cell_type": "code",
   "execution_count": null,
   "id": "1fd95a61",
   "metadata": {},
   "outputs": [],
   "source": [
    "msa, tree = iterative_msa_and_tree(\n",
    "    sequences=query_sequences,\n",
    "    pairwise_aligner=global_pairwise_align_nucleotide,\n",
    "    num_iterations=3,\n",
    "    display_aln=True,\n",
    "    display_tree=True,\n",
    ")"
   ]
  },
  {
   "cell_type": "code",
   "execution_count": null,
   "id": "b6d9d192",
   "metadata": {},
   "outputs": [],
   "source": [
    "msa, tree = iterative_msa_and_tree(\n",
    "    sequences=query_sequences,\n",
    "    pairwise_aligner=global_pairwise_align_nucleotide,\n",
    "    num_iterations=5,\n",
    "    display_aln=True,\n",
    "    display_tree=True,\n",
    ")"
   ]
  },
  {
   "cell_type": "markdown",
   "id": "16f20763",
   "metadata": {},
   "source": [
    "Some references that I used in assembling these notes include\n",
    "[1](http://statweb.stanford.edu/~nzhang/345_web/sequence_slides3.pdf),\n",
    "[2](http://math.mit.edu/classes/18.417/Slides/alignment.pdf),\n",
    "[3](http://www.sciencedirect.com/science/article/pii/0378111988903307),\n",
    "[4](http://bioinformatics.oxfordjournals.org/content/23/21/2947.full),\n",
    "[5](http://nar.oxfordjournals.org/content/32/5/1792.full)."
   ]
  }
 ],
 "metadata": {
  "jupytext": {
   "encoding": "# -*- coding: utf-8 -*-",
   "executable": "/usr/bin/python3",
   "formats": "ipynb,py:percent"
  },
  "kernelspec": {
   "display_name": "Python 3 (ipykernel)",
   "language": "python",
   "name": "python3"
  },
  "language_info": {
   "codemirror_mode": {
    "name": "ipython",
    "version": 3
   },
   "file_extension": ".py",
   "mimetype": "text/x-python",
   "name": "python",
   "nbconvert_exporter": "python",
   "pygments_lexer": "ipython3",
   "version": "3.11.7"
  }
 },
 "nbformat": 4,
 "nbformat_minor": 5
}
